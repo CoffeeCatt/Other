{
 "cells": [
  {
   "cell_type": "markdown",
   "metadata": {},
   "source": [
    "Mixup regularizes the NN to favor simple linear behavior in-between training examples.\n",
    "\n",
    "$$\\tilde{x} = \\lambda x_i +(1-\\lambda)x_j$$\n",
    "$$\\tilde{y} = \\lambda y_i + (1-\\lambda) y_j$$\n",
    "where $x_i$ and $x_j$ are raw input vectors and $y_i$ and $y_j$ are one-hot label encodings.\n",
    "\n",
    "$\\lambda \\sim Beta(\\alpha,\\alpha)$, for $\\alpha \\in (0,\\infty).$\n",
    "The mixup hyperparameter $\\alpha$ controls the strength of interpolation between feature-target pairs, recoving the ERM principle when $\\alpha\\rightarrow 0.$"
   ]
  },
  {
   "cell_type": "code",
   "execution_count": null,
   "metadata": {},
   "outputs": [],
   "source": [
    "def mixup_data(x, y, alpha=1.0, use_cuda=True):\n",
    "    '''Returns mixed inputs, pairs of targets, and lambda'''\n",
    "    if alpha > 0:\n",
    "        lam = np.random.beta(alpha, alpha)\n",
    "    else:\n",
    "        lam = 1\n",
    "\n",
    "    batch_size = x.size()[0]\n",
    "    if use_cuda:\n",
    "        index = torch.randperm(batch_size).cuda()\n",
    "    else:\n",
    "        index = torch.randperm(batch_size)\n",
    "\n",
    "    mixed_x = lam * x + (1 - lam) * x[index, :]\n",
    "    y_a, y_b = y, y[index]\n",
    "    return mixed_x, y_a, y_b, lam"
   ]
  },
  {
   "cell_type": "code",
   "execution_count": null,
   "metadata": {},
   "outputs": [],
   "source": [
    "def mixup_criterion(criterion, pred, y_a, y_b, lam):\n",
    "    return lam * criterion(pred, y_a) + (1 - lam) * criterion(pred, y_b)"
   ]
  },
  {
   "cell_type": "code",
   "execution_count": null,
   "metadata": {},
   "outputs": [],
   "source": [
    "correct += (lam * predicted.eq(targets_a.data).cpu().sum().float()\n",
    "            + (1 - lam) * predicted.eq(targets_b.data).cpu().sum().float())"
   ]
  }
 ],
 "metadata": {
  "kernelspec": {
   "display_name": "Python 3",
   "language": "python",
   "name": "python3"
  },
  "language_info": {
   "codemirror_mode": {
    "name": "ipython",
    "version": 3
   },
   "file_extension": ".py",
   "mimetype": "text/x-python",
   "name": "python",
   "nbconvert_exporter": "python",
   "pygments_lexer": "ipython3",
   "version": "3.6.9"
  }
 },
 "nbformat": 4,
 "nbformat_minor": 2
}
