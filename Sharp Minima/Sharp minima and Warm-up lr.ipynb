{
 "cells": [
  {
   "cell_type": "markdown",
   "id": "003ef07e",
   "metadata": {},
   "source": [
    "Sharp minima"
   ]
  },
  {
   "cell_type": "markdown",
   "id": "94d1105f",
   "metadata": {},
   "source": [
    "<img src=\"files/sharp-minima.png\">"
   ]
  },
  {
   "cell_type": "markdown",
   "id": "643f279d",
   "metadata": {},
   "source": [
    "Sharp minima: a significant number of large positive eigenvalues in $\\nabla^2 f(x)$ and tends to generalize less well.\n",
    "\n",
    "One possible remedy: warm-up training."
   ]
  },
  {
   "cell_type": "code",
   "execution_count": null,
   "id": "0abcd8bf",
   "metadata": {},
   "outputs": [],
   "source": [
    "import numpy as np\n",
    "\n",
    "def cosine_annealing(step, total_steps, lr_max, lr_min, warmup_steps=0):\n",
    "    assert warmup_steps >= 0\n",
    "    if step < warmup_steps:\n",
    "        lr = lr_max * step / warmup_steps\n",
    "    else:\n",
    "        lr = lr_min + (lr_max - lr_min) * 0.5 * (1 + np.cos((step - warmup_steps) / (total_steps - warmup_steps) * np.pi))\n",
    "    return lr"
   ]
  },
  {
   "cell_type": "code",
   "execution_count": null,
   "id": "9d8314b6",
   "metadata": {},
   "outputs": [],
   "source": [
    "scheduler = torch.optim.lr_scheduler.LambdaLR(\n",
    "    optimizer,\n",
    "    lr_lambda=lambda step: cosine_annealing(step,\n",
    "                                            args.epochs * len(train_loader),\n",
    "                                            1,  # since lr_lambda computes multiplicative factor\n",
    "                                            1e-6 / args.lr,\n",
    "                                            warmup_steps= args.warmup_epochs * len(train_loader))\n",
    ")"
   ]
  }
 ],
 "metadata": {
  "kernelspec": {
   "display_name": "Python 3",
   "language": "python",
   "name": "python3"
  },
  "language_info": {
   "codemirror_mode": {
    "name": "ipython",
    "version": 3
   },
   "file_extension": ".py",
   "mimetype": "text/x-python",
   "name": "python",
   "nbconvert_exporter": "python",
   "pygments_lexer": "ipython3",
   "version": "3.6.9"
  }
 },
 "nbformat": 4,
 "nbformat_minor": 5
}
